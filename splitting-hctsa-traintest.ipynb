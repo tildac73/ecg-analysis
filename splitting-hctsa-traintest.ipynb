{
 "cells": [
  {
   "cell_type": "code",
   "execution_count": 3,
   "metadata": {},
   "outputs": [
    {
     "name": "stdout",
     "output_type": "stream",
     "text": [
      "Data split into train and test sets successfully!\n"
     ]
    }
   ],
   "source": [
    "import pandas as pd\n",
    "from sklearn.model_selection import train_test_split\n",
    "\n",
    "# Load the CSV file\n",
    "df = pd.read_csv('/Users/matildacotton/Desktop/semester_2_2024/topics/hctsa_timeseries-infoprocessed.csv')\n",
    "\n",
    "# Split the data into 80% training and 20% testing\n",
    "train_df, test_df = train_test_split(df, test_size=0.2, random_state=0)\n",
    "\n",
    "# Save the resulting splits into separate CSV files\n",
    "train_df.to_csv('/Users/matildacotton/Desktop/semester_2_2024/topics/hctsa_testtimeseries-info.csv', index=False)\n",
    "test_df.to_csv('/Users/matildacotton/Desktop/semester_2_2024/topics/hctsa_traintimeseries-info.csv', index=False)\n",
    "\n",
    "print(\"Data split into train and test sets successfully!\")"
   ]
  },
  {
   "cell_type": "code",
   "execution_count": 12,
   "metadata": {},
   "outputs": [
    {
     "name": "stdout",
     "output_type": "stream",
     "text": [
      "Rows after 1545 have been removed and file saved!\n"
     ]
    }
   ],
   "source": [
    "import pandas as pd\n",
    "\n",
    "# Load your CSV file\n",
    "df = pd.read_csv('/Users/matildacotton/Desktop/semester_2_2024/topics/hctsa_timeseries-infoprocessed.csv')\n",
    "\n",
    "# Keep only the rows before row 1545 (pandas uses zero-based indexing)\n",
    "df_truncated = df.iloc[:1220, :]\n",
    "\n",
    "# Save the truncated DataFrame back to a CSV file\n",
    "df_truncated.to_csv('/Users/matildacotton/Desktop/semester_2_2024/topics/hctsa_timeseries-infoprocessedtrain.csv', index=False)\n",
    "\n",
    "print(\"Rows after 1545 have been removed and file saved!\")"
   ]
  }
 ],
 "metadata": {
  "kernelspec": {
   "display_name": "base",
   "language": "python",
   "name": "python3"
  },
  "language_info": {
   "codemirror_mode": {
    "name": "ipython",
    "version": 3
   },
   "file_extension": ".py",
   "mimetype": "text/x-python",
   "name": "python",
   "nbconvert_exporter": "python",
   "pygments_lexer": "ipython3",
   "version": "3.11.8"
  }
 },
 "nbformat": 4,
 "nbformat_minor": 2
}
