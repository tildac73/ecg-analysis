{
 "cells": [
  {
   "cell_type": "code",
   "execution_count": 13,
   "metadata": {},
   "outputs": [],
   "source": [
    "import os\n",
    "import wfdb\n",
    "from collections import Counter\n",
    "import pandas as pd\n",
    "import numpy as np"
   ]
  },
  {
   "cell_type": "code",
   "execution_count": 7,
   "metadata": {},
   "outputs": [],
   "source": [
    "ecg_data = os.path.join(os.getcwd(), 'a-large-scale-12-lead-electrocardiogram-database-for-arrhythmia-study-1.0.0/WFDBRecords')\n",
    "\n",
    "hea_files = []\n",
    "\n",
    "for root, dirs, files in os.walk(ecg_data):\n",
    "    for file in files:\n",
    "        if file.endswith('.hea'):\n",
    "            hea_files.append(os.path.join(root, file))\n"
   ]
  },
  {
   "cell_type": "code",
   "execution_count": 19,
   "metadata": {},
   "outputs": [
    {
     "name": "stdout",
     "output_type": "stream",
     "text": [
      "Error downloading <wfdb.io.record.Record object at 0x1478955d0>: time data '/' does not match format '%d/%m/%Y'\n"
     ]
    }
   ],
   "source": [
    "ecg_data = os.path.join(os.getcwd(), 'a-large-scale-12-lead-electrocardiogram-database-for-arrhythmia-study-1.0.0/WFDBRecords')\n",
    "\n",
    "conditions = []\n",
    "\n",
    "mapping_file = os.path.join(os.getcwd(), 'a-large-scale-12-lead-electrocardiogram-database-for-arrhythmia-study-1.0.0/ConditionNames_SNOMED-CT.csv')\n",
    "mapping_df = pd.read_csv(mapping_file)\n",
    "mapping_dict = dict(zip(mapping_df['Snomed_CT'], mapping_df['Full Name']))\n",
    "\n",
    "\n",
    "for hea_file in hea_files:\n",
    "    base_name = os.path.splitext(os.path.basename(hea_file))[0]\n",
    "    \n",
    "    header_path = os.path.join(os.path.dirname(hea_file), base_name)\n",
    "    \n",
    "    try:\n",
    "        record = wfdb.rdheader(header_path)\n",
    "\n",
    "\n",
    "        #extracting comments\n",
    "        comments = record.comments[2].split(':')\n",
    "        b = comments[1]\n",
    "        b = b.split(\",\")\n",
    "        diagnosis_code = []\n",
    "        for x in b:\n",
    "            diagnosis_code.append(int(x))\n",
    "\n",
    "\n",
    "        code = ''\n",
    "        \n",
    "        for x in diagnosis_code:\n",
    "            diagnosis_description = mapping_dict.get(x, 'Normal')\n",
    "            code += diagnosis_description\n",
    "        \n",
    "        conditions.append([base_name,diagnosis_description])\n",
    "       \n",
    "    except FileNotFoundError:\n",
    "        print(f'File not found: {hea_file}')\n",
    "    except ValueError as e:\n",
    "        print(f\"Error downloading {record}: {e}\")"
   ]
  },
  {
   "cell_type": "code",
   "execution_count": 20,
   "metadata": {},
   "outputs": [],
   "source": [
    "conditions = np.array(conditions)\n",
    "\n",
    "df = pd.DataFrame(conditions)\n",
    "\n",
    "df.to_csv('files_and_conditions1.csv', index=False, header=False)\n"
   ]
  }
 ],
 "metadata": {
  "kernelspec": {
   "display_name": "base",
   "language": "python",
   "name": "python3"
  },
  "language_info": {
   "codemirror_mode": {
    "name": "ipython",
    "version": 3
   },
   "file_extension": ".py",
   "mimetype": "text/x-python",
   "name": "python",
   "nbconvert_exporter": "python",
   "pygments_lexer": "ipython3",
   "version": "3.11.8"
  }
 },
 "nbformat": 4,
 "nbformat_minor": 2
}
