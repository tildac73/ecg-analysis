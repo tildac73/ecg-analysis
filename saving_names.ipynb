{
 "cells": [
  {
   "cell_type": "code",
   "execution_count": 1,
   "metadata": {},
   "outputs": [],
   "source": [
    "import os\n",
    "import wfdb\n",
    "from collections import Counter\n",
    "import pandas as pd\n",
    "import numpy as np"
   ]
  },
  {
   "cell_type": "code",
   "execution_count": 7,
   "metadata": {},
   "outputs": [
    {
     "name": "stdout",
     "output_type": "stream",
     "text": [
      "\n",
      "Total HEA Files: 45152\n",
      "Total MAT Files: 45152\n"
     ]
    }
   ],
   "source": [
    "ecg_data = os.path.join(os.getcwd(), '/Users/matildacotton/Desktop/semester_2_2024/topics/data/a-large-scale-12-lead-electrocardiogram-database-for-arrhythmia-study-1.0.0/WFDBRecords')\n",
    "\n",
    "hea_files = []\n",
    "mat_files = []\n",
    "\n",
    "for root, dirs, files in os.walk(ecg_data):\n",
    "    for file in files:\n",
    "        if file.endswith('.hea'):\n",
    "            hea_files.append(os.path.join(root, file))\n",
    "        elif file.endswith('.mat'):\n",
    "            mat_files.append(os.path.join(root, file))\n",
    "\n",
    "\n",
    "print('\\nTotal HEA Files:', len(hea_files))\n",
    "print('Total MAT Files:', len(mat_files))"
   ]
  },
  {
   "cell_type": "code",
   "execution_count": 9,
   "metadata": {},
   "outputs": [
    {
     "ename": "ValueError",
     "evalue": "time data '/' does not match format '%d/%m/%Y'",
     "output_type": "error",
     "traceback": [
      "\u001b[0;31m---------------------------------------------------------------------------\u001b[0m",
      "\u001b[0;31mValueError\u001b[0m                                Traceback (most recent call last)",
      "Cell \u001b[0;32mIn[9], line 15\u001b[0m\n\u001b[1;32m     11\u001b[0m base_name \u001b[38;5;241m=\u001b[39m os\u001b[38;5;241m.\u001b[39mpath\u001b[38;5;241m.\u001b[39msplitext(os\u001b[38;5;241m.\u001b[39mpath\u001b[38;5;241m.\u001b[39mbasename(hea_file))[\u001b[38;5;241m0\u001b[39m]\n\u001b[1;32m     13\u001b[0m header_path \u001b[38;5;241m=\u001b[39m os\u001b[38;5;241m.\u001b[39mpath\u001b[38;5;241m.\u001b[39mjoin(os\u001b[38;5;241m.\u001b[39mpath\u001b[38;5;241m.\u001b[39mdirname(hea_file), base_name)\n\u001b[0;32m---> 15\u001b[0m record \u001b[38;5;241m=\u001b[39m wfdb\u001b[38;5;241m.\u001b[39mrdheader(header_path)\n\u001b[1;32m     17\u001b[0m \u001b[38;5;28;01mtry\u001b[39;00m:\n\u001b[1;32m     18\u001b[0m     record \u001b[38;5;241m=\u001b[39m wfdb\u001b[38;5;241m.\u001b[39mrdheader(header_path)\n",
      "File \u001b[0;32m~/anaconda3/lib/python3.11/site-packages/wfdb/io/record.py:1853\u001b[0m, in \u001b[0;36mrdheader\u001b[0;34m(record_name, pn_dir, rd_segments)\u001b[0m\n\u001b[1;32m   1850\u001b[0m header_lines, comment_lines \u001b[38;5;241m=\u001b[39m header\u001b[38;5;241m.\u001b[39mparse_header_content(header_content)\n\u001b[1;32m   1852\u001b[0m \u001b[38;5;66;03m# Get fields from record line\u001b[39;00m\n\u001b[0;32m-> 1853\u001b[0m record_fields \u001b[38;5;241m=\u001b[39m _header\u001b[38;5;241m.\u001b[39m_parse_record_line(header_lines[\u001b[38;5;241m0\u001b[39m])\n\u001b[1;32m   1855\u001b[0m \u001b[38;5;66;03m# Single segment header - Process signal specification lines\u001b[39;00m\n\u001b[1;32m   1856\u001b[0m \u001b[38;5;28;01mif\u001b[39;00m record_fields[\u001b[38;5;124m\"\u001b[39m\u001b[38;5;124mn_seg\u001b[39m\u001b[38;5;124m\"\u001b[39m] \u001b[38;5;129;01mis\u001b[39;00m \u001b[38;5;28;01mNone\u001b[39;00m:\n\u001b[1;32m   1857\u001b[0m     \u001b[38;5;66;03m# Create a single-segment WFDB record object\u001b[39;00m\n",
      "File \u001b[0;32m~/anaconda3/lib/python3.11/site-packages/wfdb/io/_header.py:1057\u001b[0m, in \u001b[0;36m_parse_record_line\u001b[0;34m(record_line)\u001b[0m\n\u001b[1;32m   1053\u001b[0m             record_fields[\u001b[38;5;124m\"\u001b[39m\u001b[38;5;124mbase_time\u001b[39m\u001b[38;5;124m\"\u001b[39m] \u001b[38;5;241m=\u001b[39m wfdb_strptime(\n\u001b[1;32m   1054\u001b[0m                 record_fields[\u001b[38;5;124m\"\u001b[39m\u001b[38;5;124mbase_time\u001b[39m\u001b[38;5;124m\"\u001b[39m]\n\u001b[1;32m   1055\u001b[0m             )\n\u001b[1;32m   1056\u001b[0m         \u001b[38;5;28;01melif\u001b[39;00m field \u001b[38;5;241m==\u001b[39m \u001b[38;5;124m\"\u001b[39m\u001b[38;5;124mbase_date\u001b[39m\u001b[38;5;124m\"\u001b[39m:\n\u001b[0;32m-> 1057\u001b[0m             record_fields[\u001b[38;5;124m\"\u001b[39m\u001b[38;5;124mbase_date\u001b[39m\u001b[38;5;124m\"\u001b[39m] \u001b[38;5;241m=\u001b[39m datetime\u001b[38;5;241m.\u001b[39mdatetime\u001b[38;5;241m.\u001b[39mstrptime(\n\u001b[1;32m   1058\u001b[0m                 record_fields[\u001b[38;5;124m\"\u001b[39m\u001b[38;5;124mbase_date\u001b[39m\u001b[38;5;124m\"\u001b[39m], \u001b[38;5;124m\"\u001b[39m\u001b[38;5;132;01m%d\u001b[39;00m\u001b[38;5;124m/\u001b[39m\u001b[38;5;124m%\u001b[39m\u001b[38;5;124mm/\u001b[39m\u001b[38;5;124m%\u001b[39m\u001b[38;5;124mY\u001b[39m\u001b[38;5;124m\"\u001b[39m\n\u001b[1;32m   1059\u001b[0m             )\u001b[38;5;241m.\u001b[39mdate()\n\u001b[1;32m   1061\u001b[0m \u001b[38;5;66;03m# This is not a standard WFDB field, but is useful to set.\u001b[39;00m\n\u001b[1;32m   1062\u001b[0m \u001b[38;5;28;01mif\u001b[39;00m record_fields[\u001b[38;5;124m\"\u001b[39m\u001b[38;5;124mbase_date\u001b[39m\u001b[38;5;124m\"\u001b[39m] \u001b[38;5;129;01mand\u001b[39;00m record_fields[\u001b[38;5;124m\"\u001b[39m\u001b[38;5;124mbase_time\u001b[39m\u001b[38;5;124m\"\u001b[39m]:\n",
      "File \u001b[0;32m~/anaconda3/lib/python3.11/_strptime.py:567\u001b[0m, in \u001b[0;36m_strptime_datetime\u001b[0;34m(cls, data_string, format)\u001b[0m\n\u001b[1;32m    564\u001b[0m \u001b[38;5;28;01mdef\u001b[39;00m \u001b[38;5;21m_strptime_datetime\u001b[39m(\u001b[38;5;28mcls\u001b[39m, data_string, \u001b[38;5;28mformat\u001b[39m\u001b[38;5;241m=\u001b[39m\u001b[38;5;124m\"\u001b[39m\u001b[38;5;132;01m%a\u001b[39;00m\u001b[38;5;124m \u001b[39m\u001b[38;5;124m%\u001b[39m\u001b[38;5;124mb \u001b[39m\u001b[38;5;132;01m%d\u001b[39;00m\u001b[38;5;124m \u001b[39m\u001b[38;5;124m%\u001b[39m\u001b[38;5;124mH:\u001b[39m\u001b[38;5;124m%\u001b[39m\u001b[38;5;124mM:\u001b[39m\u001b[38;5;124m%\u001b[39m\u001b[38;5;124mS \u001b[39m\u001b[38;5;124m%\u001b[39m\u001b[38;5;124mY\u001b[39m\u001b[38;5;124m\"\u001b[39m):\n\u001b[1;32m    565\u001b[0m \u001b[38;5;250m    \u001b[39m\u001b[38;5;124;03m\"\"\"Return a class cls instance based on the input string and the\u001b[39;00m\n\u001b[1;32m    566\u001b[0m \u001b[38;5;124;03m    format string.\"\"\"\u001b[39;00m\n\u001b[0;32m--> 567\u001b[0m     tt, fraction, gmtoff_fraction \u001b[38;5;241m=\u001b[39m _strptime(data_string, \u001b[38;5;28mformat\u001b[39m)\n\u001b[1;32m    568\u001b[0m     tzname, gmtoff \u001b[38;5;241m=\u001b[39m tt[\u001b[38;5;241m-\u001b[39m\u001b[38;5;241m2\u001b[39m:]\n\u001b[1;32m    569\u001b[0m     args \u001b[38;5;241m=\u001b[39m tt[:\u001b[38;5;241m6\u001b[39m] \u001b[38;5;241m+\u001b[39m (fraction,)\n",
      "File \u001b[0;32m~/anaconda3/lib/python3.11/_strptime.py:349\u001b[0m, in \u001b[0;36m_strptime\u001b[0;34m(data_string, format)\u001b[0m\n\u001b[1;32m    347\u001b[0m found \u001b[38;5;241m=\u001b[39m format_regex\u001b[38;5;241m.\u001b[39mmatch(data_string)\n\u001b[1;32m    348\u001b[0m \u001b[38;5;28;01mif\u001b[39;00m \u001b[38;5;129;01mnot\u001b[39;00m found:\n\u001b[0;32m--> 349\u001b[0m     \u001b[38;5;28;01mraise\u001b[39;00m \u001b[38;5;167;01mValueError\u001b[39;00m(\u001b[38;5;124m\"\u001b[39m\u001b[38;5;124mtime data \u001b[39m\u001b[38;5;132;01m%r\u001b[39;00m\u001b[38;5;124m does not match format \u001b[39m\u001b[38;5;132;01m%r\u001b[39;00m\u001b[38;5;124m\"\u001b[39m \u001b[38;5;241m%\u001b[39m\n\u001b[1;32m    350\u001b[0m                      (data_string, \u001b[38;5;28mformat\u001b[39m))\n\u001b[1;32m    351\u001b[0m \u001b[38;5;28;01mif\u001b[39;00m \u001b[38;5;28mlen\u001b[39m(data_string) \u001b[38;5;241m!=\u001b[39m found\u001b[38;5;241m.\u001b[39mend():\n\u001b[1;32m    352\u001b[0m     \u001b[38;5;28;01mraise\u001b[39;00m \u001b[38;5;167;01mValueError\u001b[39;00m(\u001b[38;5;124m\"\u001b[39m\u001b[38;5;124munconverted data remains: \u001b[39m\u001b[38;5;132;01m%s\u001b[39;00m\u001b[38;5;124m\"\u001b[39m \u001b[38;5;241m%\u001b[39m\n\u001b[1;32m    353\u001b[0m                       data_string[found\u001b[38;5;241m.\u001b[39mend():])\n",
      "\u001b[0;31mValueError\u001b[0m: time data '/' does not match format '%d/%m/%Y'"
     ]
    }
   ],
   "source": [
    "ecg_data = os.path.join(os.getcwd(), '/Users/matildacotton/Desktop/semester_2_2024/topics/data/a-large-scale-12-lead-electrocardiogram-database-for-arrhythmia-study-1.0.0/WFDBRecords')\n",
    "\n",
    "conditions = []\n",
    "\n",
    "mapping_file = os.path.join(os.getcwd(), '/Users/matildacotton/Desktop/semester_2_2024/topics/data/a-large-scale-12-lead-electrocardiogram-database-for-arrhythmia-study-1.0.0/ConditionNames_SNOMED-CT.csv')\n",
    "mapping_df = pd.read_csv(mapping_file)\n",
    "mapping_dict = dict(zip(mapping_df['Snomed_CT'], mapping_df['Full Name']))\n",
    "\n",
    "\n",
    "for hea_file in hea_files:\n",
    "    base_name = os.path.splitext(os.path.basename(hea_file))[0]\n",
    "    \n",
    "    header_path = os.path.join(os.path.dirname(hea_file), base_name)\n",
    "\n",
    "    record = wfdb.rdheader(header_path)\n",
    "    \n",
    "    try:\n",
    "        record = wfdb.rdheader(header_path)\n",
    "\n",
    "\n",
    "        #extracting comments\n",
    "        comments = record.comments[2].split(':')\n",
    "        b = comments[1]\n",
    "        b = b.split(\",\")\n",
    "        diagnosis_code = []\n",
    "        for x in b:\n",
    "            diagnosis_code.append(int(x))\n",
    "\n",
    "\n",
    "        code = ''\n",
    "        \n",
    "        for x in diagnosis_code:\n",
    "            diagnosis_description = mapping_dict.get(x, 'Unknown')\n",
    "            code += diagnosis_description\n",
    "        \n",
    "        conditions.append([base_name,diagnosis_description])\n",
    "\n",
    "    except FileNotFoundError:\n",
    "        print(f'File not found: {hea_file}')\n",
    "    except ValueError as e:\n",
    "        print(f\"ValueError while reading {hea_file}: {e}\")\n",
    "        continue"
   ]
  },
  {
   "cell_type": "code",
   "execution_count": 5,
   "metadata": {},
   "outputs": [],
   "source": [
    "conditions = np.array(conditions)\n",
    "\n",
    "df = pd.DataFrame(conditions)\n",
    "\n",
    "df.to_csv('files_and_conditions_fixed.csv', index=False, header=False)\n"
   ]
  }
 ],
 "metadata": {
  "kernelspec": {
   "display_name": "base",
   "language": "python",
   "name": "python3"
  },
  "language_info": {
   "codemirror_mode": {
    "name": "ipython",
    "version": 3
   },
   "file_extension": ".py",
   "mimetype": "text/x-python",
   "name": "python",
   "nbconvert_exporter": "python",
   "pygments_lexer": "ipython3",
   "version": "3.11.8"
  }
 },
 "nbformat": 4,
 "nbformat_minor": 2
}
