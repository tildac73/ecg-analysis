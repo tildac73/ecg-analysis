{
 "cells": [
  {
   "cell_type": "code",
   "execution_count": 1,
   "metadata": {},
   "outputs": [],
   "source": [
    "import pycatch22\n",
    "import os\n",
    "import scipy\n",
    "import numpy as np\n",
    "from sklearn.impute import SimpleImputer\n",
    "import pandas as pd"
   ]
  },
  {
   "cell_type": "code",
   "execution_count": 2,
   "metadata": {},
   "outputs": [],
   "source": [
    "training_mat_files = []\n",
    "testing_mat_files = []\n",
    "\n",
    "test_data = os.path.join(os.getcwd(),'data/test_data')\n",
    "training_data = os.path.join(os.getcwd(),'data/train_data')\n",
    "\n",
    "\n",
    "\n",
    "for root, dirs, files in os.walk(test_data):\n",
    "    for file in files:\n",
    "        if file.endswith('.mat'):\n",
    "            testing_mat_files.append(os.path.join(root, file))\n",
    "\n",
    "for root, dirs, files in os.walk(training_data):\n",
    "    for file in files:\n",
    "        if file.endswith('.mat'):\n",
    "            training_mat_files.append(os.path.join(root, file))\n",
    "\n",
    "            \n",
    "mapping_df = pd.read_csv(os.path.join(os.getcwd(),'data/files_and_conditions1.csv'))\n",
    "mapping_dict = dict(zip(mapping_df['Name'], mapping_df['Condition']))"
   ]
  },
  {
   "cell_type": "code",
   "execution_count": 3,
   "metadata": {},
   "outputs": [],
   "source": [
    "features = []\n",
    "labels = []\n",
    "\n",
    "for file in testing_mat_files:\n",
    "    mat_data = scipy.io.loadmat(file)\n",
    "    data_matrix = mat_data['my_matrix']\n",
    "\n",
    "    results = pycatch22.catch22_all(data_matrix[0])\n",
    "\n",
    "    features.append(results['values'])\n",
    "\n",
    "    file_name = os.path.basename(file).split('.')[0]\n",
    "    labels.append(mapping_dict.get(file_name, 'Unknown'))\n",
    "\n",
    "features = np.array(features)\n",
    "labels = np.array(labels)\n",
    "\n",
    "df = pd.DataFrame(features)\n",
    "df['label'] = labels\n",
    "\n",
    "df.to_csv('hctsa-catch22-features.csv', index=False, header=False)"
   ]
  },
  {
   "cell_type": "code",
   "execution_count": 4,
   "metadata": {},
   "outputs": [],
   "source": [
    "features = []\n",
    "labels = []\n",
    "\n",
    "for file in training_mat_files:\n",
    "    mat_data = scipy.io.loadmat(file)\n",
    "    data_matrix = mat_data['my_matrix']\n",
    "\n",
    "    results = pycatch22.catch22_all(data_matrix[0])\n",
    "\n",
    "    features.append(results['values'])\n",
    "\n",
    "    file_name = os.path.basename(file).split('.')[0]\n",
    "    labels.append(mapping_dict.get(file_name, 'Unknown'))\n",
    "\n",
    "features = np.array(features)\n",
    "labels = np.array(labels)\n",
    "\n",
    "df = pd.DataFrame(features)\n",
    "df['label'] = labels\n",
    "\n",
    "df.to_csv('hctsa-catch22-features-training.csv', index=False, header=False)"
   ]
  }
 ],
 "metadata": {
  "kernelspec": {
   "display_name": "base",
   "language": "python",
   "name": "python3"
  },
  "language_info": {
   "codemirror_mode": {
    "name": "ipython",
    "version": 3
   },
   "file_extension": ".py",
   "mimetype": "text/x-python",
   "name": "python",
   "nbconvert_exporter": "python",
   "pygments_lexer": "ipython3",
   "version": "3.11.8"
  }
 },
 "nbformat": 4,
 "nbformat_minor": 2
}
