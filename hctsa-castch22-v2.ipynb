{
 "cells": [
  {
   "cell_type": "code",
   "execution_count": 10,
   "metadata": {},
   "outputs": [],
   "source": [
    "import pycatch22\n",
    "import os\n",
    "import scipy\n",
    "import numpy as np\n",
    "from sklearn.impute import SimpleImputer\n",
    "import pandas as pd"
   ]
  },
  {
   "cell_type": "code",
   "execution_count": 11,
   "metadata": {},
   "outputs": [],
   "source": [
    "training_mat_files = []\n",
    "testing_mat_files = []\n",
    "val_mat_files = []\n",
    "\n",
    "\n",
    "test_data = os.path.join(os.getcwd(),'data/test_data')\n",
    "training_data = os.path.join(os.getcwd(),'data/train_data')\n",
    "val_data = os.path.join(os.getcwd(),'data/val_data')\n",
    "\n",
    "for root, dirs, files in os.walk(test_data):\n",
    "    for file in files:\n",
    "        if file.endswith('.mat'):\n",
    "            testing_mat_files.append(os.path.join(root, file))\n",
    "\n",
    "for root, dirs, files in os.walk(training_data):\n",
    "    for file in files:\n",
    "        if file.endswith('.mat'):\n",
    "            training_mat_files.append(os.path.join(root, file))\n",
    "\n",
    "for root, dirs, files in os.walk(val_data):\n",
    "    for file in files:\n",
    "        if file.endswith('.mat'):\n",
    "            val_mat_files.append(os.path.join(root, file))\n",
    "\n",
    "            \n",
    "mapping_df = pd.read_csv(os.path.join(os.getcwd(),'data/files_and_conditions1.csv'))\n",
    "mapping_dict = dict(zip(mapping_df['Name'], mapping_df['Condition']))"
   ]
  },
  {
   "cell_type": "code",
   "execution_count": 13,
   "metadata": {},
   "outputs": [
    {
     "name": "stdout",
     "output_type": "stream",
     "text": [
      "Feature extraction and saving completed!\n"
     ]
    }
   ],
   "source": [
    "# Assuming testing_mat_files and mapping_dict are defined\n",
    "num_leads = 12\n",
    "\n",
    "for i in range(num_leads):\n",
    "    features = []\n",
    "    labels = []\n",
    "\n",
    "    # Load data from each file and compute features\n",
    "    for file in training_mat_files:\n",
    "        # Load the .mat file\n",
    "        mat_data = scipy.io.loadmat(file)\n",
    "        data_matrix = mat_data['my_matrix']\n",
    "\n",
    "        # Compute features for the i-th lead\n",
    "        results = pycatch22.catch22_all(data_matrix[i])\n",
    "\n",
    "        # Append results and corresponding label\n",
    "        features.append(results['values'])\n",
    "        file_name = os.path.basename(file).split('.')[0]\n",
    "        labels.append(mapping_dict.get(file_name, 'Unknown'))\n",
    "\n",
    "    # Convert to NumPy arrays\n",
    "    features_array = np.array(features)\n",
    "    labels_array = np.array(labels)\n",
    "\n",
    "    # Create a DataFrame and save to CSV\n",
    "    df = pd.DataFrame(features_array)\n",
    "    df['label'] = labels_array\n",
    "    df.to_csv(f'training-hctsa-catch22-features-lead-{i}.csv', index=False, header=False)\n",
    "\n",
    "print(\"Feature extraction and saving completed!\")\n"
   ]
  },
  {
   "cell_type": "code",
   "execution_count": 4,
   "metadata": {},
   "outputs": [],
   "source": [
    "features = []\n",
    "labels = []\n",
    "\n",
    "for file in training_mat_files:\n",
    "    mat_data = scipy.io.loadmat(file)\n",
    "    data_matrix = mat_data['my_matrix']\n",
    "\n",
    "    results = pycatch22.catch22_all(data_matrix[0])\n",
    "\n",
    "    features.append(results['values'])\n",
    "\n",
    "    file_name = os.path.basename(file).split('.')[0]\n",
    "    labels.append(mapping_dict.get(file_name, 'Unknown'))\n",
    "\n",
    "features = np.array(features)\n",
    "labels = np.array(labels)\n",
    "\n",
    "df = pd.DataFrame(features)\n",
    "df['label'] = labels\n",
    "\n",
    "df.to_csv('hctsa-catch22-features-training.csv', index=False, header=False)"
   ]
  }
 ],
 "metadata": {
  "kernelspec": {
   "display_name": "base",
   "language": "python",
   "name": "python3"
  },
  "language_info": {
   "codemirror_mode": {
    "name": "ipython",
    "version": 3
   },
   "file_extension": ".py",
   "mimetype": "text/x-python",
   "name": "python",
   "nbconvert_exporter": "python",
   "pygments_lexer": "ipython3",
   "version": "3.11.8"
  }
 },
 "nbformat": 4,
 "nbformat_minor": 2
}
