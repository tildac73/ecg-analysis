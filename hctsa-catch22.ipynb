{
 "cells": [
  {
   "cell_type": "code",
   "execution_count": 68,
   "metadata": {},
   "outputs": [],
   "source": [
    "import pycatch22\n",
    "import os\n",
    "import scipy\n",
    "import numpy as np\n",
    "from sklearn.impute import SimpleImputer\n"
   ]
  },
  {
   "cell_type": "code",
   "execution_count": 3,
   "metadata": {},
   "outputs": [],
   "source": [
    "ecg_data = os.path.join(os.getcwd(), 'train_data')\n"
   ]
  },
  {
   "cell_type": "code",
   "execution_count": 52,
   "metadata": {},
   "outputs": [],
   "source": [
    "features = []\n",
    "\n",
    "mat_files = []\n",
    "for root, dirs, files in os.walk(ecg_data):\n",
    "    for file in files:\n",
    "        if file.endswith('.mat'):\n",
    "            mat_files.append(os.path.join(root, file))"
   ]
  },
  {
   "cell_type": "code",
   "execution_count": 53,
   "metadata": {},
   "outputs": [],
   "source": [
    "\n",
    "for file in mat_files:\n",
    "    mat_data = scipy.io.loadmat(file)\n",
    "    data_matrix = mat_data['my_matrix']\n",
    "\n",
    "    results = pycatch22.catch22_all(data_matrix[0])\n",
    "\n",
    "    features.append(results['values'])"
   ]
  },
  {
   "cell_type": "code",
   "execution_count": 9,
   "metadata": {},
   "outputs": [
    {
     "name": "stdout",
     "output_type": "stream",
     "text": [
      "DN_HistogramMode_5: -1.0963774807251676\n",
      "DN_HistogramMode_10: -0.6606201800043661\n",
      "CO_f1ecac: 10.413233765269522\n",
      "CO_FirstMin_ac: 42\n",
      "CO_HistogramAMI_even_2_5: 0.5904441024313102\n",
      "CO_trev_1_num: 0.003180337717153423\n",
      "MD_hrv_classic_pnn40: 0.4346869373874775\n",
      "SB_BinaryStats_mean_longstretch1: 168.0\n",
      "SB_TransitionMatrix_3ac_sumdiagcov: 0.001953125\n",
      "PD_PeriodicityWang_th0_01: 60\n",
      "CO_Embed2_Dist_tau_d_expfit_meandiff: 0.9497900968869051\n",
      "IN_AutoMutualInfoStats_40_gaussian_fmmi: 40.0\n",
      "FC_LocalSimple_mean1_tauresrat: 0.046052631578947366\n",
      "DN_OutlierInclude_p_001_mdrmd: 0.07279999999999998\n",
      "DN_OutlierInclude_n_001_mdrmd: -0.1199\n",
      "SP_Summaries_welch_rect_area_5_1: 0.99975914113523\n",
      "SB_BinaryStats_diff_longstretch0: 35.0\n",
      "SB_MotifThree_quantile_hh: 1.3311835606815494\n",
      "SC_FluctAnal_2_rsrangefit_50_1_logi_prop_r1: 0.2653061224489796\n",
      "SC_FluctAnal_2_dfa_50_1_2_logi_prop_r1: 0.2653061224489796\n",
      "SP_Summaries_welch_rect_centroid: 0.09357282806103027\n",
      "FC_LocalSimple_mean3_stderr: 0.27813252266939875\n"
     ]
    }
   ],
   "source": [
    "for feature, output in zip(results['names'], results['values']):\n",
    "    print(f\"{feature}: {output}\")"
   ]
  },
  {
   "cell_type": "code",
   "execution_count": 10,
   "metadata": {},
   "outputs": [],
   "source": [
    "import numpy as np\n",
    "import pandas as pd\n",
    "from sklearn.model_selection import train_test_split\n",
    "from sklearn.svm import SVC\n",
    "from sklearn.preprocessing import StandardScaler\n",
    "from sklearn.metrics import classification_report"
   ]
  },
  {
   "cell_type": "code",
   "execution_count": 61,
   "metadata": {},
   "outputs": [
    {
     "name": "stdout",
     "output_type": "stream",
     "text": [
      "['Sinus Bradycardia' 'Sinus Irregularity' 'Normal' ... 'Normal' 'Normal'\n",
      " 'Atrial Flutter']\n"
     ]
    }
   ],
   "source": [
    "features = np.array(features)\n",
    "\n",
    "labels = []\n",
    "\n",
    "mapping_df = pd.read_csv('files_and_conditions1.csv')\n",
    "\n",
    "mapping_dict = dict(zip(mapping_df['Name'], mapping_df['Condition']))\n",
    "\n",
    "\n",
    "for file in mat_files:\n",
    "    base_name = os.path.splitext(os.path.basename(file))[0]\n",
    "\n",
    "    labels.append(mapping_dict.get(base_name))\n",
    "labels = np.array(labels)\n",
    "print(labels)\n"
   ]
  },
  {
   "cell_type": "code",
   "execution_count": 70,
   "metadata": {},
   "outputs": [
    {
     "name": "stdout",
     "output_type": "stream",
     "text": [
      "Checking for NaNs in features:\n",
      "0\n",
      "0\n"
     ]
    }
   ],
   "source": [
    "print(\"Checking for NaNs in features:\")\n",
    "print(np.isnan(features).sum())\n",
    "\n",
    "imputer = SimpleImputer(strategy='mean')\n",
    "features = imputer.fit_transform(features)\n"
   ]
  },
  {
   "cell_type": "code",
   "execution_count": 73,
   "metadata": {},
   "outputs": [
    {
     "name": "stdout",
     "output_type": "stream",
     "text": [
      "Features dtype: float64\n"
     ]
    }
   ],
   "source": [
    "print(\"Features dtype:\", features.dtype)\n"
   ]
  },
  {
   "cell_type": "code",
   "execution_count": 77,
   "metadata": {},
   "outputs": [
    {
     "name": "stdout",
     "output_type": "stream",
     "text": [
      "None in labels: False\n",
      "None in labels: False\n"
     ]
    }
   ],
   "source": [
    "# Check for None values in labels\n",
    "print(\"None in labels:\", any(x is None for x in labels))\n",
    "labels = [0 if x is None else x for x in labels]\n",
    "print(\"None in labels:\", any(x is None for x in labels))\n",
    "\n"
   ]
  },
  {
   "cell_type": "code",
   "execution_count": 78,
   "metadata": {},
   "outputs": [
    {
     "name": "stderr",
     "output_type": "stream",
     "text": [
      "/Users/matildacotton/anaconda3/lib/python3.11/site-packages/sklearn/metrics/_classification.py:1531: UndefinedMetricWarning: Precision is ill-defined and being set to 0.0 in labels with no predicted samples. Use `zero_division` parameter to control this behavior.\n",
      "  _warn_prf(average, modifier, f\"{metric.capitalize()} is\", len(result))\n"
     ]
    },
    {
     "name": "stdout",
     "output_type": "stream",
     "text": [
      "                                           precision    recall  f1-score   support\n",
      "\n",
      "                                        0       0.00      0.00      0.00         1\n",
      "          1 degree atrioventricular block       0.00      0.00      0.00       286\n",
      "          2 degree atrioventricular block       0.00      0.00      0.00        43\n",
      "2 degree atrioventricular block(Type one)       0.00      0.00      0.00        10\n",
      "          3 degree atrioventricular block       0.00      0.00      0.00        12\n",
      "                      Atrial Fibrillation       0.00      0.00      0.00       333\n",
      "                           Atrial Flutter       0.00      0.00      0.00      2092\n",
      "                       Atrial Tachycardia       0.00      0.00      0.00        45\n",
      "   Atrioventricular Reentrant Tachycardia       0.00      0.00      0.00         4\n",
      "                          Axis left shift       0.00      0.00      0.00       665\n",
      "                         Axis right shift       0.00      0.00      0.00       156\n",
      "   Early repolarization of the ventricles       0.00      0.00      0.00       279\n",
      "                   Intraventricular block       0.00      0.00      0.00        78\n",
      "   Myocardial infraction in the side wall       0.00      0.00      0.00        13\n",
      "                                   Normal       0.25      0.64      0.36      7940\n",
      "                            P wave Change       0.00      0.00      0.00        58\n",
      "                    PR interval extension       0.00      0.00      0.00         7\n",
      "                    QT interval extension       0.00      0.00      0.00        82\n",
      "                             ST drop down       0.00      0.00      0.00        74\n",
      "                             ST extension       0.00      0.00      0.00        59\n",
      "                               ST tilt up       0.00      0.00      0.00        78\n",
      "                              ST-T Change       0.00      0.00      0.00       630\n",
      "                        Sinus Bradycardia       0.34      0.73      0.46      7253\n",
      "                       Sinus Irregularity       0.00      0.00      0.00      1821\n",
      "                             Sinus Rhythm       0.00      0.00      0.00      4747\n",
      "                        Sinus Tachycardia       0.00      0.00      0.00      3215\n",
      "             Supraventricular Tachycardia       0.00      0.00      0.00       327\n",
      "                            T wave Change       0.00      0.00      0.00      2785\n",
      "                          T wave opposite       0.00      0.00      0.00      1101\n",
      "                                   U wave       0.00      0.00      0.00        45\n",
      "                                      WPW       0.00      0.00      0.00        36\n",
      "                          abnormal Q wave       0.00      0.00      0.00       380\n",
      "                          atrial bigeminy       1.00      1.00      1.00         1\n",
      "                   atrial premature beats       0.00      0.00      0.00       118\n",
      "                   atrioventricular block       0.00      0.00      0.00        49\n",
      "                      colockwise rotation       0.00      0.00      0.00        26\n",
      "               countercolockwise rotation       0.00      0.00      0.00        77\n",
      "                   junctional escape beat       0.00      0.00      0.00         5\n",
      "                junctional premature beat       0.00      0.00      0.00         5\n",
      "           left front bundle branch block       0.00      0.00      0.00        93\n",
      "               left ventricle hypertrophy       0.00      0.00      0.00        49\n",
      "            lower voltage QRS in all lead       0.00      0.00      0.00       431\n",
      "                 right atrial hypertrophy       0.00      0.00      0.00         5\n",
      "                right bundle branch block       0.00      0.00      0.00       332\n",
      "              right ventricle hypertrophy       0.00      0.00      0.00         3\n",
      "                     ventricular bigeminy       0.00      0.00      0.00         3\n",
      "                  ventricular escape beat       0.00      0.00      0.00        11\n",
      "             ventricular escape trigeminy       0.00      0.00      0.00         7\n",
      "                  ventricular fusion wave       0.00      0.00      0.00         9\n",
      "                ventricular preexcitation       0.00      0.00      0.00        10\n",
      "               ventricular premature beat       0.00      0.00      0.00       229\n",
      "\n",
      "                                 accuracy                           0.29     36118\n",
      "                                macro avg       0.03      0.05      0.04     36118\n",
      "                             weighted avg       0.12      0.29      0.17     36118\n",
      "\n"
     ]
    },
    {
     "name": "stderr",
     "output_type": "stream",
     "text": [
      "/Users/matildacotton/anaconda3/lib/python3.11/site-packages/sklearn/metrics/_classification.py:1531: UndefinedMetricWarning: Precision is ill-defined and being set to 0.0 in labels with no predicted samples. Use `zero_division` parameter to control this behavior.\n",
      "  _warn_prf(average, modifier, f\"{metric.capitalize()} is\", len(result))\n",
      "/Users/matildacotton/anaconda3/lib/python3.11/site-packages/sklearn/metrics/_classification.py:1531: UndefinedMetricWarning: Precision is ill-defined and being set to 0.0 in labels with no predicted samples. Use `zero_division` parameter to control this behavior.\n",
      "  _warn_prf(average, modifier, f\"{metric.capitalize()} is\", len(result))\n"
     ]
    }
   ],
   "source": [
    "\n",
    "scaler = StandardScaler()\n",
    "features = scaler.fit_transform(features)\n",
    "\n",
    "clf = SVC(kernel='linear') \n",
    "clf.fit(features, labels)\n",
    "\n",
    "y_pred = clf.predict(features)\n",
    "print(classification_report(labels, y_pred))"
   ]
  }
 ],
 "metadata": {
  "kernelspec": {
   "display_name": "Python 3",
   "language": "python",
   "name": "python3"
  },
  "language_info": {
   "codemirror_mode": {
    "name": "ipython",
    "version": 3
   },
   "file_extension": ".py",
   "mimetype": "text/x-python",
   "name": "python",
   "nbconvert_exporter": "python",
   "pygments_lexer": "ipython3",
   "version": "3.11.8"
  }
 },
 "nbformat": 4,
 "nbformat_minor": 2
}
