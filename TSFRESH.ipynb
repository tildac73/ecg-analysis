{
 "cells": [
  {
   "cell_type": "code",
   "execution_count": 6,
   "metadata": {},
   "outputs": [],
   "source": [
    "import sklearn.model_selection\n",
    "\n",
    "import sklearn.ensemble\n",
    "\n",
    "import scipy.stats\n",
    "\n",
    "import numpy as np\n",
    "import pandas as pd\n",
    "import tsfresh\n",
    "\n",
    "import sys\n",
    "\n"
   ]
  },
  {
   "cell_type": "code",
   "execution_count": 7,
   "metadata": {},
   "outputs": [],
   "source": [
    "import os\n",
    "import scipy"
   ]
  },
  {
   "cell_type": "code",
   "execution_count": 9,
   "metadata": {},
   "outputs": [
    {
     "name": "stdout",
     "output_type": "stream",
     "text": [
      "[[-0.01661338 -0.01641293 -0.0160395  ...  0.00215344  0.00185371\n",
      "   0.00139521]\n",
      " [-0.03868996 -0.04116373 -0.04340457 ...  0.03773063  0.03495551\n",
      "   0.03206923]\n",
      " [-0.02209341 -0.02487179 -0.02749618 ...  0.03564801  0.03312686\n",
      "   0.03070741]\n",
      " ...\n",
      " [-0.03078662 -0.03163762 -0.03226914 ...  0.08513276  0.07560247\n",
      "   0.06531437]\n",
      " [-0.03292397 -0.03179917 -0.03050987 ...  0.07865497  0.06972228\n",
      "   0.06042685]\n",
      " [-0.03155762 -0.03051644 -0.02940345 ...  0.07080415  0.06278433\n",
      "   0.05451192]]\n"
     ]
    }
   ],
   "source": [
    "ecg_data = os.path.join(os.getcwd(), 'train_data')\n",
    "\n",
    "mat_files = []\n",
    "\n",
    "for root, dirs, files in os.walk(ecg_data):\n",
    "    for file in files:\n",
    "        if file.endswith('.mat'):\n",
    "            mat_data = scipy.io.loadmat(os.path.join(root, file))\n",
    "            data_matrix = mat_data['my_matrix']\n",
    "            mat_files.append(data_matrix)\n",
    "\n",
    "\n",
    "print (mat_files[0])"
   ]
  },
  {
   "cell_type": "code",
   "execution_count": 11,
   "metadata": {},
   "outputs": [],
   "source": [
    "df = pd.DataFrame(mat_files)\n",
    "extracted_features = tsfresh.extract_features(df, column_id=\"id\", column_sort=\"time\")"
   ]
  }
 ],
 "metadata": {
  "kernelspec": {
   "display_name": "base",
   "language": "python",
   "name": "python3"
  },
  "language_info": {
   "codemirror_mode": {
    "name": "ipython",
    "version": 3
   },
   "file_extension": ".py",
   "mimetype": "text/x-python",
   "name": "python",
   "nbconvert_exporter": "python",
   "pygments_lexer": "ipython3",
   "version": "3.11.9"
  }
 },
 "nbformat": 4,
 "nbformat_minor": 2
}
